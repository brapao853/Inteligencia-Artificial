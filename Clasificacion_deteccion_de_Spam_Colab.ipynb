{
  "cells": [
    {
      "cell_type": "markdown",
      "metadata": {
        "id": "view-in-github",
        "colab_type": "text"
      },
      "source": [
        "<a href=\"https://colab.research.google.com/github/brapao853/Inteligencia-Artificial/blob/main/Clasificacion_deteccion_de_Spam_Colab.ipynb\" target=\"_parent\"><img src=\"https://colab.research.google.com/assets/colab-badge.svg\" alt=\"Open In Colab\"/></a>"
      ]
    },
    {
      "cell_type": "markdown",
      "source": [
        "**Machine** **Learning**\n",
        "\n",
        "**Aprendizaje** **Automatico** - **Aprendizaje** **supervisado**\n",
        "\n",
        "es tipo de ML que mas aplica en la vida real..\n",
        "\n",
        "se alimenta de ejemplos ya etiquetados\n",
        "se llama supervisado, porque se tiene un tipo de maestro que le dice al modelo cual es la respuesta correcta\n",
        "\n",
        "se divide en dos partes:\n",
        "\n",
        "**Regresión**: lo que se quiere predecir es un numero ej: **cuanto** **costara** **una** **casa**\n",
        "\n",
        "**Clasificación**: se quiere predecir una categoria ej: **si** **un** **correo** **es** **normal** **o** **es** **spam**\n",
        "\n",
        "en los **bancos** se usa la\n",
        "**regresion** para predecir cuanto dinero puede pedir un cliente y **clasificacion** para saber si aprueban o no un credito\n",
        "\n",
        "En **medicina** se usa la **regresión** para ajustar la dosis de un medicamento y **clasificación** para detectar enfermedades en estudios clinicos"
      ],
      "metadata": {
        "id": "Ls_pAH0xVKXJ"
      }
    },
    {
      "cell_type": "markdown",
      "source": [
        "**Algoritmos** **de** **regresión**:\n",
        "\n",
        "*   regresión lineal\n",
        "*   arboles de decisión\n",
        "*   Random forest\n",
        "*   Redes neuronales\n",
        "\n",
        "**Algoritmos** **de** **clasificación**:\n",
        "\n",
        "*   Regresiones logisticas\n",
        "*   Maquinas vectoriales de soporte\n",
        "*   Redes neuronales\n",
        "\n",
        "\n",
        "\n",
        "\n",
        "\n"
      ],
      "metadata": {
        "id": "i_uXqzpxaeRu"
      }
    },
    {
      "cell_type": "markdown",
      "source": [
        "Librerías utilizadas:\n",
        "\n",
        "**pandas**: Para manejo y análisis de datos.\n",
        "\n",
        "**sklearn**.**feature_extraction**.**text**.**TfidfVectorizer**: Convierte texto a vectores numéricos.\n",
        "\n",
        "**sklearn**.**model_selection**.**train_test_split**: Divide datos en entrenamiento y prueba.\n",
        "\n",
        "**sklearn**.**naive_bayes**.**MultinomialNB**: Modelo de clasificación bayesiano.\n",
        "\n",
        "**sklearn**.**metrics**.**accuracy_score**: Mide la precisión del modelo.\n",
        "\n",
        "**sklearn**.**metrics**.**classification_report**: Genera un reporte de métricas de clasificación."
      ],
      "metadata": {
        "id": "Bag5oVP1jrpV"
      }
    },
    {
      "cell_type": "code",
      "source": [
        "\n",
        "import pandas as pd\n",
        "from sklearn.feature_extraction.text import TfidfVectorizer\n",
        "from sklearn.model_selection import train_test_split\n",
        "from sklearn.naive_bayes import MultinomialNB\n",
        "from sklearn.metrics import accuracy_score, classification_report"
      ],
      "metadata": {
        "id": "J3WPdBZbjQbD"
      },
      "execution_count": null,
      "outputs": []
    },
    {
      "cell_type": "markdown",
      "source": [
        "Aqui estoy cargando nuestros archivos de datos (archivo externo csv con la informacion)\n",
        "\n",
        "```\n",
        "# import pandas as pd\n",
        "```"
      ],
      "metadata": {
        "id": "wqtFUcwkjpW4"
      }
    },
    {
      "cell_type": "code",
      "source": [
        "#carga de datos:\n",
        "df = pd.read_csv('/content/Emails_Simulados.csv')"
      ],
      "metadata": {
        "id": "5LFEtNbhkcaD"
      },
      "execution_count": null,
      "outputs": []
    },
    {
      "cell_type": "markdown",
      "source": [
        "vamos a traer las primeras columnas y filas de nuestro data set\n",
        "\n",
        "*el codigo de python se lee de derecha a izquierda*"
      ],
      "metadata": {
        "id": "HEVgQ-2ik9vn"
      }
    },
    {
      "cell_type": "code",
      "source": [
        "#Exploración de datos:\n",
        "df.head()"
      ],
      "metadata": {
        "colab": {
          "base_uri": "https://localhost:8080/",
          "height": 206
        },
        "id": "JUAGicj_op4Y",
        "outputId": "4f035301-e70a-46bc-8c0c-989190655f6d"
      },
      "execution_count": null,
      "outputs": [
        {
          "output_type": "execute_result",
          "data": {
            "text/plain": [
              "                                               email   clase\n",
              "0        ¿Podemos reagendar la cita para el viernes?  normal\n",
              "1        ¿Podemos reagendar la cita para el viernes?  normal\n",
              "2                El reporte está listo para revisión  normal\n",
              "3  Feliz cumpleaños, espero que tengas un día mar...  normal\n",
              "4        ¿Podemos reagendar la cita para el viernes?  normal"
            ],
            "text/html": [
              "\n",
              "  <div id=\"df-6c76ca01-36b3-49f2-9036-ce5ec0511131\" class=\"colab-df-container\">\n",
              "    <div>\n",
              "<style scoped>\n",
              "    .dataframe tbody tr th:only-of-type {\n",
              "        vertical-align: middle;\n",
              "    }\n",
              "\n",
              "    .dataframe tbody tr th {\n",
              "        vertical-align: top;\n",
              "    }\n",
              "\n",
              "    .dataframe thead th {\n",
              "        text-align: right;\n",
              "    }\n",
              "</style>\n",
              "<table border=\"1\" class=\"dataframe\">\n",
              "  <thead>\n",
              "    <tr style=\"text-align: right;\">\n",
              "      <th></th>\n",
              "      <th>email</th>\n",
              "      <th>clase</th>\n",
              "    </tr>\n",
              "  </thead>\n",
              "  <tbody>\n",
              "    <tr>\n",
              "      <th>0</th>\n",
              "      <td>¿Podemos reagendar la cita para el viernes?</td>\n",
              "      <td>normal</td>\n",
              "    </tr>\n",
              "    <tr>\n",
              "      <th>1</th>\n",
              "      <td>¿Podemos reagendar la cita para el viernes?</td>\n",
              "      <td>normal</td>\n",
              "    </tr>\n",
              "    <tr>\n",
              "      <th>2</th>\n",
              "      <td>El reporte está listo para revisión</td>\n",
              "      <td>normal</td>\n",
              "    </tr>\n",
              "    <tr>\n",
              "      <th>3</th>\n",
              "      <td>Feliz cumpleaños, espero que tengas un día mar...</td>\n",
              "      <td>normal</td>\n",
              "    </tr>\n",
              "    <tr>\n",
              "      <th>4</th>\n",
              "      <td>¿Podemos reagendar la cita para el viernes?</td>\n",
              "      <td>normal</td>\n",
              "    </tr>\n",
              "  </tbody>\n",
              "</table>\n",
              "</div>\n",
              "    <div class=\"colab-df-buttons\">\n",
              "\n",
              "  <div class=\"colab-df-container\">\n",
              "    <button class=\"colab-df-convert\" onclick=\"convertToInteractive('df-6c76ca01-36b3-49f2-9036-ce5ec0511131')\"\n",
              "            title=\"Convert this dataframe to an interactive table.\"\n",
              "            style=\"display:none;\">\n",
              "\n",
              "  <svg xmlns=\"http://www.w3.org/2000/svg\" height=\"24px\" viewBox=\"0 -960 960 960\">\n",
              "    <path d=\"M120-120v-720h720v720H120Zm60-500h600v-160H180v160Zm220 220h160v-160H400v160Zm0 220h160v-160H400v160ZM180-400h160v-160H180v160Zm440 0h160v-160H620v160ZM180-180h160v-160H180v160Zm440 0h160v-160H620v160Z\"/>\n",
              "  </svg>\n",
              "    </button>\n",
              "\n",
              "  <style>\n",
              "    .colab-df-container {\n",
              "      display:flex;\n",
              "      gap: 12px;\n",
              "    }\n",
              "\n",
              "    .colab-df-convert {\n",
              "      background-color: #E8F0FE;\n",
              "      border: none;\n",
              "      border-radius: 50%;\n",
              "      cursor: pointer;\n",
              "      display: none;\n",
              "      fill: #1967D2;\n",
              "      height: 32px;\n",
              "      padding: 0 0 0 0;\n",
              "      width: 32px;\n",
              "    }\n",
              "\n",
              "    .colab-df-convert:hover {\n",
              "      background-color: #E2EBFA;\n",
              "      box-shadow: 0px 1px 2px rgba(60, 64, 67, 0.3), 0px 1px 3px 1px rgba(60, 64, 67, 0.15);\n",
              "      fill: #174EA6;\n",
              "    }\n",
              "\n",
              "    .colab-df-buttons div {\n",
              "      margin-bottom: 4px;\n",
              "    }\n",
              "\n",
              "    [theme=dark] .colab-df-convert {\n",
              "      background-color: #3B4455;\n",
              "      fill: #D2E3FC;\n",
              "    }\n",
              "\n",
              "    [theme=dark] .colab-df-convert:hover {\n",
              "      background-color: #434B5C;\n",
              "      box-shadow: 0px 1px 3px 1px rgba(0, 0, 0, 0.15);\n",
              "      filter: drop-shadow(0px 1px 2px rgba(0, 0, 0, 0.3));\n",
              "      fill: #FFFFFF;\n",
              "    }\n",
              "  </style>\n",
              "\n",
              "    <script>\n",
              "      const buttonEl =\n",
              "        document.querySelector('#df-6c76ca01-36b3-49f2-9036-ce5ec0511131 button.colab-df-convert');\n",
              "      buttonEl.style.display =\n",
              "        google.colab.kernel.accessAllowed ? 'block' : 'none';\n",
              "\n",
              "      async function convertToInteractive(key) {\n",
              "        const element = document.querySelector('#df-6c76ca01-36b3-49f2-9036-ce5ec0511131');\n",
              "        const dataTable =\n",
              "          await google.colab.kernel.invokeFunction('convertToInteractive',\n",
              "                                                    [key], {});\n",
              "        if (!dataTable) return;\n",
              "\n",
              "        const docLinkHtml = 'Like what you see? Visit the ' +\n",
              "          '<a target=\"_blank\" href=https://colab.research.google.com/notebooks/data_table.ipynb>data table notebook</a>'\n",
              "          + ' to learn more about interactive tables.';\n",
              "        element.innerHTML = '';\n",
              "        dataTable['output_type'] = 'display_data';\n",
              "        await google.colab.output.renderOutput(dataTable, element);\n",
              "        const docLink = document.createElement('div');\n",
              "        docLink.innerHTML = docLinkHtml;\n",
              "        element.appendChild(docLink);\n",
              "      }\n",
              "    </script>\n",
              "  </div>\n",
              "\n",
              "\n",
              "    <div id=\"df-fb79c622-d687-49dd-91ec-99395798fa54\">\n",
              "      <button class=\"colab-df-quickchart\" onclick=\"quickchart('df-fb79c622-d687-49dd-91ec-99395798fa54')\"\n",
              "                title=\"Suggest charts\"\n",
              "                style=\"display:none;\">\n",
              "\n",
              "<svg xmlns=\"http://www.w3.org/2000/svg\" height=\"24px\"viewBox=\"0 0 24 24\"\n",
              "     width=\"24px\">\n",
              "    <g>\n",
              "        <path d=\"M19 3H5c-1.1 0-2 .9-2 2v14c0 1.1.9 2 2 2h14c1.1 0 2-.9 2-2V5c0-1.1-.9-2-2-2zM9 17H7v-7h2v7zm4 0h-2V7h2v10zm4 0h-2v-4h2v4z\"/>\n",
              "    </g>\n",
              "</svg>\n",
              "      </button>\n",
              "\n",
              "<style>\n",
              "  .colab-df-quickchart {\n",
              "      --bg-color: #E8F0FE;\n",
              "      --fill-color: #1967D2;\n",
              "      --hover-bg-color: #E2EBFA;\n",
              "      --hover-fill-color: #174EA6;\n",
              "      --disabled-fill-color: #AAA;\n",
              "      --disabled-bg-color: #DDD;\n",
              "  }\n",
              "\n",
              "  [theme=dark] .colab-df-quickchart {\n",
              "      --bg-color: #3B4455;\n",
              "      --fill-color: #D2E3FC;\n",
              "      --hover-bg-color: #434B5C;\n",
              "      --hover-fill-color: #FFFFFF;\n",
              "      --disabled-bg-color: #3B4455;\n",
              "      --disabled-fill-color: #666;\n",
              "  }\n",
              "\n",
              "  .colab-df-quickchart {\n",
              "    background-color: var(--bg-color);\n",
              "    border: none;\n",
              "    border-radius: 50%;\n",
              "    cursor: pointer;\n",
              "    display: none;\n",
              "    fill: var(--fill-color);\n",
              "    height: 32px;\n",
              "    padding: 0;\n",
              "    width: 32px;\n",
              "  }\n",
              "\n",
              "  .colab-df-quickchart:hover {\n",
              "    background-color: var(--hover-bg-color);\n",
              "    box-shadow: 0 1px 2px rgba(60, 64, 67, 0.3), 0 1px 3px 1px rgba(60, 64, 67, 0.15);\n",
              "    fill: var(--button-hover-fill-color);\n",
              "  }\n",
              "\n",
              "  .colab-df-quickchart-complete:disabled,\n",
              "  .colab-df-quickchart-complete:disabled:hover {\n",
              "    background-color: var(--disabled-bg-color);\n",
              "    fill: var(--disabled-fill-color);\n",
              "    box-shadow: none;\n",
              "  }\n",
              "\n",
              "  .colab-df-spinner {\n",
              "    border: 2px solid var(--fill-color);\n",
              "    border-color: transparent;\n",
              "    border-bottom-color: var(--fill-color);\n",
              "    animation:\n",
              "      spin 1s steps(1) infinite;\n",
              "  }\n",
              "\n",
              "  @keyframes spin {\n",
              "    0% {\n",
              "      border-color: transparent;\n",
              "      border-bottom-color: var(--fill-color);\n",
              "      border-left-color: var(--fill-color);\n",
              "    }\n",
              "    20% {\n",
              "      border-color: transparent;\n",
              "      border-left-color: var(--fill-color);\n",
              "      border-top-color: var(--fill-color);\n",
              "    }\n",
              "    30% {\n",
              "      border-color: transparent;\n",
              "      border-left-color: var(--fill-color);\n",
              "      border-top-color: var(--fill-color);\n",
              "      border-right-color: var(--fill-color);\n",
              "    }\n",
              "    40% {\n",
              "      border-color: transparent;\n",
              "      border-right-color: var(--fill-color);\n",
              "      border-top-color: var(--fill-color);\n",
              "    }\n",
              "    60% {\n",
              "      border-color: transparent;\n",
              "      border-right-color: var(--fill-color);\n",
              "    }\n",
              "    80% {\n",
              "      border-color: transparent;\n",
              "      border-right-color: var(--fill-color);\n",
              "      border-bottom-color: var(--fill-color);\n",
              "    }\n",
              "    90% {\n",
              "      border-color: transparent;\n",
              "      border-bottom-color: var(--fill-color);\n",
              "    }\n",
              "  }\n",
              "</style>\n",
              "\n",
              "      <script>\n",
              "        async function quickchart(key) {\n",
              "          const quickchartButtonEl =\n",
              "            document.querySelector('#' + key + ' button');\n",
              "          quickchartButtonEl.disabled = true;  // To prevent multiple clicks.\n",
              "          quickchartButtonEl.classList.add('colab-df-spinner');\n",
              "          try {\n",
              "            const charts = await google.colab.kernel.invokeFunction(\n",
              "                'suggestCharts', [key], {});\n",
              "          } catch (error) {\n",
              "            console.error('Error during call to suggestCharts:', error);\n",
              "          }\n",
              "          quickchartButtonEl.classList.remove('colab-df-spinner');\n",
              "          quickchartButtonEl.classList.add('colab-df-quickchart-complete');\n",
              "        }\n",
              "        (() => {\n",
              "          let quickchartButtonEl =\n",
              "            document.querySelector('#df-fb79c622-d687-49dd-91ec-99395798fa54 button');\n",
              "          quickchartButtonEl.style.display =\n",
              "            google.colab.kernel.accessAllowed ? 'block' : 'none';\n",
              "        })();\n",
              "      </script>\n",
              "    </div>\n",
              "\n",
              "    </div>\n",
              "  </div>\n"
            ],
            "application/vnd.google.colaboratory.intrinsic+json": {
              "type": "dataframe",
              "variable_name": "df",
              "summary": "{\n  \"name\": \"df\",\n  \"rows\": 200,\n  \"fields\": [\n    {\n      \"column\": \"email\",\n      \"properties\": {\n        \"dtype\": \"category\",\n        \"num_unique_values\": 10,\n        \"samples\": [\n          \"Pr\\u00e9stamos f\\u00e1ciles sin verificaci\\u00f3n de cr\\u00e9dito\",\n          \"El reporte est\\u00e1 listo para revisi\\u00f3n\",\n          \"\\u00a1GANASTE UN MILL\\u00d3N DE D\\u00d3LARES! Haz clic aqu\\u00ed AHORA\"\n        ],\n        \"semantic_type\": \"\",\n        \"description\": \"\"\n      }\n    },\n    {\n      \"column\": \"clase\",\n      \"properties\": {\n        \"dtype\": \"category\",\n        \"num_unique_values\": 2,\n        \"samples\": [\n          \"spam\",\n          \"normal\"\n        ],\n        \"semantic_type\": \"\",\n        \"description\": \"\"\n      }\n    }\n  ]\n}"
            }
          },
          "metadata": {},
          "execution_count": 5
        }
      ]
    },
    {
      "cell_type": "markdown",
      "source": [
        "las computadoras no entienden el texto como los humanos, solo entienden numeros, es por esto que se deben convertir los textos a numeros para que el algortimo lo entienda"
      ],
      "metadata": {
        "id": "O0nQE7N1qlZi"
      }
    },
    {
      "cell_type": "code",
      "source": [
        "#Preprocesamiento: se eliminan stop words (palabras que no agregan valor)\n",
        "# y se convierten textos en vectores numericos\n",
        "# Convertir texto a vectores numéricos\n",
        "vectorizador = TfidfVectorizer(stop_words='spanish')\n",
        "vectorizador = TfidfVectorizer()\n",
        "#variable X donde se almacena la transformacion que va a ser para entrenar\n",
        "# al modelo, se toman los enunciados que definen el encabezado\n",
        "# de los correos\n",
        "X = vectorizador.fit_transform(df['email'])\n",
        "#la etiqueta de los correos (correo normal, spam)\n",
        "y = df['clase']"
      ],
      "metadata": {
        "id": "GqC7aHDJqhG0"
      },
      "execution_count": null,
      "outputs": []
    },
    {
      "cell_type": "code",
      "source": [
        "# Dividir en entrenamiento y prueba\n",
        "# se divide 70-30\n",
        "# el 30% evalua el 70% con el que se entrenara el algoritmo\n",
        "X_train, X_test, y_train, y_test = train_test_split(X, y, test_size=0.3, random_state=42)"
      ],
      "metadata": {
        "id": "HAQ95fCyNv_N"
      },
      "execution_count": null,
      "outputs": []
    },
    {
      "cell_type": "code",
      "source": [
        "# Modelo\n",
        "#instanciar mi modelo, voy a guardarlo en una variable\n",
        "modelo = MultinomialNB()\n",
        "#en esa misma variable se guarda el entrenamiento\n",
        "modelo.fit(X_train, y_train)\n",
        "#resultados de la prediccion x_test se utiliza para validar que el modelo\n",
        "#funciona 30%\n",
        "y_pred = modelo.predict(X_test)"
      ],
      "metadata": {
        "id": "PcsYxDR4OnFK"
      },
      "execution_count": null,
      "outputs": []
    },
    {
      "cell_type": "code",
      "source": [
        "# Evaluación\n",
        "print(\"Reporte de clasificación:\")\n",
        "print(classification_report(y_test, y_pred))\n",
        "print(f\"Precisión: {accuracy_score(y_test, y_pred):.2%}\")"
      ],
      "metadata": {
        "colab": {
          "base_uri": "https://localhost:8080/"
        },
        "id": "g6lCu_c_TU9i",
        "outputId": "e1b3b47e-7e77-41f7-ccb5-257f06a55958"
      },
      "execution_count": null,
      "outputs": [
        {
          "output_type": "stream",
          "name": "stdout",
          "text": [
            "Reporte de clasificación:\n",
            "              precision    recall  f1-score   support\n",
            "\n",
            "      normal       1.00      1.00      1.00        31\n",
            "        spam       1.00      1.00      1.00        29\n",
            "\n",
            "    accuracy                           1.00        60\n",
            "   macro avg       1.00      1.00      1.00        60\n",
            "weighted avg       1.00      1.00      1.00        60\n",
            "\n",
            "Precisión: 100.00%\n"
          ]
        }
      ]
    }
  ],
  "metadata": {
    "colab": {
      "provenance": [],
      "include_colab_link": true
    },
    "kernelspec": {
      "display_name": "Python 3",
      "name": "python3"
    }
  },
  "nbformat": 4,
  "nbformat_minor": 0
}