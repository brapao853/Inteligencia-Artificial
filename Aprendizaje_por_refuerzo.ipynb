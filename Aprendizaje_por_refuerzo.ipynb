{
  "nbformat": 4,
  "nbformat_minor": 0,
  "metadata": {
    "colab": {
      "provenance": [],
      "authorship_tag": "ABX9TyPVoy3IQjXnEm64Ac/q8Zqu",
      "include_colab_link": true
    },
    "kernelspec": {
      "name": "python3",
      "display_name": "Python 3"
    },
    "language_info": {
      "name": "python"
    }
  },
  "cells": [
    {
      "cell_type": "markdown",
      "metadata": {
        "id": "view-in-github",
        "colab_type": "text"
      },
      "source": [
        "<a href=\"https://colab.research.google.com/github/brapao853/Inteligencia-Artificial/blob/main/Aprendizaje_por_refuerzo.ipynb\" target=\"_parent\"><img src=\"https://colab.research.google.com/assets/colab-badge.svg\" alt=\"Open In Colab\"/></a>"
      ]
    },
    {
      "cell_type": "markdown",
      "source": [
        "# Aprendisaje por refuerzo\n",
        "\n",
        "**Q-learning** y **OpenIA Gym**\n",
        "\n",
        "Q-learning es un algoritmo de aprendizaje por refuerzo que permite a un agente aprender a tomar decisiones optimas en un entorno, maximizando las recompensas a largo plazo.\n",
        "\n",
        "Funciona mediante la construccion de una Q-table, donde cada entrada representa el valor esperado de una accion en un estado determinado, a travez de la exploracion y la explotacion de acciones, el agente actualiza esta tabla para mejorar su rendimiento. Este metodo es util en entornos donde se pueden simular situaciones como OpenAI Gym con ejemplos como FrozencLake.\n",
        "\n",
        "Modelo base cuenta con 4 elementos claves:\n",
        "\n",
        "1. **agente**: es el ente que toma decisiones, el que realiza acciones en un entorno.\n",
        "2. **Entorno**: todo lo qie rodea al agente, incluyendo obstaculos y condiciones que afectan su desempeño.\n",
        "3. **acciones**: son las decisiones que el agente puede tomar, como pedalear o frenar en el ejemplo de andar en bicicleta.\n",
        "4. **Recompensas**: son señales que indican si el agente esta actuando bien o mal, permitiendo que aprenda de sus experiencias."
      ],
      "metadata": {
        "id": "S22t6sMHBRxe"
      }
    }
  ]
}